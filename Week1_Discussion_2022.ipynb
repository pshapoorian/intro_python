{
  "nbformat": 4,
  "nbformat_minor": 0,
  "metadata": {
    "colab": {
      "private_outputs": true,
      "provenance": [],
      "collapsed_sections": [],
      "include_colab_link": true
    },
    "kernelspec": {
      "name": "python3",
      "display_name": "Python 3"
    },
    "language_info": {
      "name": "python"
    }
  },
  "cells": [
    {
      "cell_type": "markdown",
      "metadata": {
        "id": "view-in-github",
        "colab_type": "text"
      },
      "source": [
        "<a href=\"https://colab.research.google.com/github/pshapoorian/intro_python/blob/main/Week1_Discussion_2022.ipynb\" target=\"_parent\"><img src=\"https://colab.research.google.com/assets/colab-badge.svg\" alt=\"Open In Colab\"/></a>"
      ]
    },
    {
      "cell_type": "markdown",
      "source": [
        "First, save a copy of this notebook to your drive so you can save your work. <br>Warmup Exercise 1"
      ],
      "metadata": {
        "id": "ukXIxwPVVSme"
      }
    },
    {
      "cell_type": "code",
      "source": [
        "# Print the name of your favorite game"
      ],
      "metadata": {
        "id": "X5CLBH0bXk4_"
      },
      "execution_count": null,
      "outputs": []
    },
    {
      "cell_type": "markdown",
      "source": [
        "Warmup Exercise 2"
      ],
      "metadata": {
        "id": "JrgPMyPqV2DE"
      }
    },
    {
      "cell_type": "code",
      "execution_count": null,
      "metadata": {
        "id": "h_iVV--4VDOa"
      },
      "outputs": [],
      "source": [
        "# Write code that asks the user to input their favorite game and store the input as a variable\n",
        "x = \n",
        "\n",
        "# # also store the number of years the user has played their favorite game\n",
        "num_years = "
      ]
    },
    {
      "cell_type": "markdown",
      "source": [
        "Warmup Exercise 3"
      ],
      "metadata": {
        "id": "x0j5P0BhY2xZ"
      }
    },
    {
      "cell_type": "code",
      "source": [
        "# print the name of the users favorite game"
      ],
      "metadata": {
        "id": "sC1mfdHSZCng"
      },
      "execution_count": null,
      "outputs": []
    },
    {
      "cell_type": "markdown",
      "source": [
        " ## Discussion: Week 1 <br>\n",
        "\n",
        " You can print all different types of Python objects. <br>\n",
        "What is the type of the input we just took in?"
      ],
      "metadata": {
        "id": "OipJW9V6ZIKc"
      }
    },
    {
      "cell_type": "code",
      "source": [
        "type(x)"
      ],
      "metadata": {
        "id": "1OHa6zdLZ2h6"
      },
      "execution_count": null,
      "outputs": []
    },
    {
      "cell_type": "code",
      "source": [
        "type(num_years)"
      ],
      "metadata": {
        "id": "nHAMLDeMeGcS"
      },
      "execution_count": null,
      "outputs": []
    },
    {
      "cell_type": "markdown",
      "source": [
        "Is the type of `num_years` what you expected it to be? <br>What data type should it be?"
      ],
      "metadata": {
        "id": "B7mhuRZQdwUD"
      }
    },
    {
      "cell_type": "code",
      "source": [
        "num_years = int(num_years)\n",
        "print('type',type(num_years))"
      ],
      "metadata": {
        "id": "rciroOeieiNX"
      },
      "execution_count": null,
      "outputs": []
    },
    {
      "cell_type": "markdown",
      "source": [
        "We just reassigned the variable `num_years` to the string num_years cast as a integer. <br> This took the input string 1 and stored it differently internally, as an integer 1. "
      ],
      "metadata": {
        "id": "IiAGkieYe1m4"
      }
    },
    {
      "cell_type": "code",
      "source": [
        "# store and print num_years as a float"
      ],
      "metadata": {
        "id": "HSe5wJXdf22g"
      },
      "execution_count": null,
      "outputs": []
    },
    {
      "cell_type": "markdown",
      "source": [
        "Can we cast the string stored as the variable `x` as a integer? float? boolean? <br> Wouldn't if have been easier to remember what information `x` is storing if I would have stored it with a more informative variable name? <br> What will happen if we run this code?"
      ],
      "metadata": {
        "id": "Nmg1KyZ3iixb"
      }
    },
    {
      "cell_type": "code",
      "source": [
        "print(int(x))"
      ],
      "metadata": {
        "id": "cRZwdp4Zihl_"
      },
      "execution_count": null,
      "outputs": []
    },
    {
      "cell_type": "markdown",
      "source": [
        "What are the different types of assignments in this class? "
      ],
      "metadata": {
        "id": "7CbQDkWhZ4il"
      }
    },
    {
      "cell_type": "code",
      "source": [
        "homework_type_1 = \"Zybooks readings assignments\"\n",
        "homework_type_2 = \"lecture quizzes\"\n",
        "homework_type_3 = \"Zybooks programming assignments\"\n",
        "\n",
        "print(\"I need to complete these assignments each week of this class:\", end=\"\")\n",
        "print(homework_type_1)\n",
        "print('\\t', homework_type_2, homework_type_3+\"!\")"
      ],
      "metadata": {
        "id": "8HpItDPUakYy"
      },
      "execution_count": null,
      "outputs": []
    },
    {
      "cell_type": "markdown",
      "source": [
        "The whitespace in those print statements are a little strange. <br>Can you change the code to clean it up, maybe print a tab and a astrix before each homework type?<br>How did I add the exclamation point?\n",
        "\n"
      ],
      "metadata": {
        "id": "QBQ0EplJhobu"
      }
    },
    {
      "cell_type": "code",
      "source": [
        "# fix the print statements"
      ],
      "metadata": {
        "id": "leROS8NTzm65"
      },
      "execution_count": null,
      "outputs": []
    },
    {
      "cell_type": "code",
      "source": [
        "# store the types of assignments in a list"
      ],
      "metadata": {
        "id": "E2Rw2T9UwQaA"
      },
      "execution_count": null,
      "outputs": []
    },
    {
      "cell_type": "code",
      "source": [
        "# store the number of each type of assignment that are due each week\n",
        "num_hw_type_1_due_per_week = \n",
        "num_hw_type_2_due_per_week = \n",
        "num_hw_type_3_due_per_week = "
      ],
      "metadata": {
        "id": "4ycqZq52hoyK"
      },
      "execution_count": null,
      "outputs": []
    },
    {
      "cell_type": "markdown",
      "source": [
        "Lets calculate how many days we have to work on each assignment type. "
      ],
      "metadata": {
        "id": "h15gkLIpi4r1"
      }
    },
    {
      "cell_type": "code",
      "source": [
        "# Lets make a variable for the number of days in a week.\n",
        "# I don't want to work on the weekends so 5 days in a work week (M-F)\n",
        "num_days = 5\n",
        "\n",
        "# Dividing the number of days in a week by the number of homeworks\n",
        "# per week to equal the number of days we have to work on each assignment\n",
        "hw_type_1_days = \n",
        "hw_type_2_days = \n",
        "hw_type_3_days = \n",
        "\n",
        "assert hw_type_1_days == 5\n",
        "assert hw_type_2_days == 2.5\n",
        "assert hw_type_3_days == 5"
      ],
      "metadata": {
        "id": "CxYmmX3EjrwB"
      },
      "execution_count": null,
      "outputs": []
    },
    {
      "cell_type": "markdown",
      "source": [
        "What is `assert hw_type_1_days == 5` doing? <br> What does `==` do? How is it different than `=`? <br> What data type does the expression return?"
      ],
      "metadata": {
        "id": "EeUIEUs0lkgp"
      }
    },
    {
      "cell_type": "code",
      "source": [
        "type(hw_type_1_days == 5)"
      ],
      "metadata": {
        "id": "bLARQyzCoLfN"
      },
      "execution_count": null,
      "outputs": []
    },
    {
      "cell_type": "markdown",
      "source": [
        "If we were to assign the expression to a variable:"
      ],
      "metadata": {
        "id": "K-Nxlt2WocHB"
      }
    },
    {
      "cell_type": "code",
      "source": [
        "correct_response = hw_type_1_days == 5\n",
        "\n",
        "print('Did I get the challenge correct?',correct_response)"
      ],
      "metadata": {
        "id": "uIbE2S_Gor-u"
      },
      "execution_count": null,
      "outputs": []
    },
    {
      "cell_type": "markdown",
      "source": [
        "Do we have time for more expressions?"
      ],
      "metadata": {
        "id": "c43fie2Hpale"
      }
    },
    {
      "cell_type": "code",
      "source": [
        "# multiply the number of hours in a day by the number of days to work on hw_type_2\n",
        "\n",
        "\n",
        "# print it using an f-string (formatted string literal)"
      ],
      "metadata": {
        "id": "fQKUJmYYluX6"
      },
      "execution_count": null,
      "outputs": []
    },
    {
      "cell_type": "markdown",
      "source": [
        "Logical operators return boolean data types"
      ],
      "metadata": {
        "id": "QFtGvc-4nu-b"
      }
    },
    {
      "cell_type": "code",
      "source": [
        "# What logical operators do we know?"
      ],
      "metadata": {
        "id": "zIB2-TpPq0oy"
      },
      "execution_count": null,
      "outputs": []
    }
  ]
}